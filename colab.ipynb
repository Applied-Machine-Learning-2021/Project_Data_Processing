{
 "cells": [
  {
   "cell_type": "markdown",
   "metadata": {
    "colab_type": "text",
    "id": "view-in-github"
   },
   "source": [
    "<a href=\"https://colab.research.google.com/github/google/applied-machine-learning-intensive/blob/master/content/02_data/06_project_data_processing/colab.ipynb\" target=\"_parent\"><img src=\"https://colab.research.google.com/assets/colab-badge.svg\" alt=\"Open In Colab\"/></a>"
   ]
  },
  {
   "cell_type": "markdown",
   "metadata": {
    "colab_type": "text",
    "id": "jx_FnF6HFucc"
   },
   "source": [
    "#### Copyright 2019 Google LLC."
   ]
  },
  {
   "cell_type": "code",
   "execution_count": null,
   "metadata": {
    "colab": {},
    "colab_type": "code",
    "id": "cSdG7cSNFro-"
   },
   "outputs": [],
   "source": [
    "# Licensed under the Apache License, Version 2.0 (the \"License\");\n",
    "# you may not use this file except in compliance with the License.\n",
    "# You may obtain a copy of the License at\n",
    "#\n",
    "# https://www.apache.org/licenses/LICENSE-2.0\n",
    "#\n",
    "# Unless required by applicable law or agreed to in writing, software\n",
    "# distributed under the License is distributed on an \"AS IS\" BASIS,\n",
    "# WITHOUT WARRANTIES OR CONDITIONS OF ANY KIND, either express or implied.\n",
    "# See the License for the specific language governing permissions and\n",
    "# limitations under the License."
   ]
  },
  {
   "cell_type": "markdown",
   "metadata": {
    "colab_type": "text",
    "id": "_FdRu8E0F6EJ"
   },
   "source": [
    "# Dataset Exploration\n"
   ]
  },
  {
   "cell_type": "markdown",
   "metadata": {
    "colab_type": "text",
    "id": "Mm5d3zEpKE00"
   },
   "source": [
    "For this project you will be given a dataset and an associated problem. Over the course of the day, you will explore the dataset and train the best model you can in order to solve the problem. At the end of the day, you will give a short presentation about your model and solution."
   ]
  },
  {
   "cell_type": "markdown",
   "metadata": {
    "colab_type": "text",
    "id": "Nb9YD_6cWefp"
   },
   "source": [
    "### Deliverables\n",
    "\n",
    "1. A **copy of this Colab notebook** containing your code and responses to the ethical considerations below.\n",
    "1. At the end of the day, we will ask you and your group to stand in front of the class and give a brief **presentation about what you have done**. "
   ]
  },
  {
   "cell_type": "markdown",
   "metadata": {
    "colab_type": "text",
    "id": "JzEoFw-TPi7r"
   },
   "source": [
    "## Team\n",
    "\n",
    "Please enter your team members' names in the placeholders in this text area:\n",
    "\n",
    "*   *Team Member Placeholder*\n",
    "*   *Team Member Placeholder*\n",
    "*   *Team Member Placeholder*\n",
    "\n"
   ]
  },
  {
   "cell_type": "markdown",
   "metadata": {
    "colab_type": "text",
    "id": "a0-9HPLU43Xf"
   },
   "source": [
    "# Exercises"
   ]
  },
  {
   "cell_type": "markdown",
   "metadata": {
    "colab_type": "text",
    "id": "8rqFJ-Ch4_mU"
   },
   "source": [
    "## Exercise 1: Coding"
   ]
  },
  {
   "cell_type": "markdown",
   "metadata": {
    "colab_type": "text",
    "id": "cr12EFb2WQym"
   },
   "source": [
    "[Kaggle](http://www.kaggle.com) hosts a [dataset containing US airline on-time statistics and delay data](https://www.kaggle.com/giovamata/airlinedelaycauses) from the [US Department of Transportation's Bureau of Transportation Statistics (BTS)](https://www.bts.gov/). In this project, we will **use flight statistics data to gain insights into US airports' and airlines' flights in 2008.**\n",
    "\n",
    "You are free to use any toolkit we've covered in class to solve the problem (e.g. Pandas, Matplotlib, Seaborn).\n",
    "\n",
    "Demonstrations of competency:\n",
    "1. Get the data into a Python object.\n",
    "1. Inspect the data for each column's data type and summary statistics.\n",
    "1. Explore the data programmatically and visually.\n",
    "1. Produce an answer and visualization, where applicable, for at least three questions from the list below, and discuss any relevant insights. Feel free to generate and answer some of your own questions. \n",
    "\n",
    "  * Which U.S. airport is the busiest airport? You can decide how you'd like to measure \"business\" (e.g., annually, monthly, daily).\n",
    "  * Of the 2008 flights that are *actually delayed*, think about:\n",
    "    * Which 10 U.S. airlines have the most delays?\n",
    "    * Which 10 U.S. airlines have the longest average delay time?\n",
    "    * Which 10 U.S. airports have the most delays?\n",
    "    * Which 10 U.S. airports have the longest average delay time?\n",
    "  * More analysis:\n",
    "    * Are there patterns on how flight delays are distributed across different hours of the day?\n",
    "    * How about across months or seasons? Can you think of any reasons for these seasonal delays?\n",
    "    * If you look at average delay time or number of delays by airport, does the data show linearity? Does any subset of the data show linearity?\n",
    "    * Add reason for delay to your delay analysis above.\n",
    "    * Examine flight frequencies, delays, time of day or year, etc. for a specific airport, airline or origin-arrival airport pair."
   ]
  },
  {
   "cell_type": "markdown",
   "metadata": {
    "colab_type": "text",
    "id": "WgFU38b7rfbv"
   },
   "source": [
    "### Student Solution"
   ]
  },
  {
   "cell_type": "code",
   "execution_count": null,
   "metadata": {
    "colab": {},
    "colab_type": "code",
    "id": "wOdOl0qqPyL-"
   },
   "outputs": [],
   "source": [
    "# Use as many text and code blocks as you need to create your solution.\n",
    "# Make sure to take notes and add lots of code comments, so your instructor\n",
    "# understands what you are doing!\n",
    "\n",
    "print(\"Good luck!\")"
   ]
  },
  {
   "cell_type": "markdown",
   "metadata": {
    "colab_type": "text",
    "id": "2IY331QgBEm5"
   },
   "source": [
    "## Exercise 2: Ethical Implications"
   ]
  },
  {
   "cell_type": "markdown",
   "metadata": {
    "colab_type": "text",
    "id": "uK8XzfVHLi1K"
   },
   "source": [
    "Even the most basic of data manipulations has the potential to affect segments of the population in different ways. It is important to consider how your code might positively and negatively affect different types of users.\n",
    "\n",
    "In this section of the project, you will reflect on the ethical implications of your analysis."
   ]
  },
  {
   "cell_type": "markdown",
   "metadata": {
    "colab_type": "text",
    "id": "BqyxriWE53Du"
   },
   "source": [
    "### Student Solution"
   ]
  },
  {
   "cell_type": "markdown",
   "metadata": {
    "colab_type": "text",
    "id": "_U3L0F9FLmwa"
   },
   "source": [
    "**Positive Impact**\n",
    "\n",
    "Your analysis is trying to solve a problem. Think about who will benefit if the problem is solved, and write a brief narrative about how the model will help."
   ]
  },
  {
   "cell_type": "markdown",
   "metadata": {
    "colab_type": "text",
    "id": "g582VerYL0so"
   },
   "source": [
    "*\\[Hypothetical entities\\] will benefit because...*"
   ]
  },
  {
   "cell_type": "markdown",
   "metadata": {
    "colab_type": "text",
    "id": "ALr018eQMuUw"
   },
   "source": [
    "**Negative Impact**\n",
    "\n",
    "Solutions usually don't have a universal benefit. Think about who might be negatively impacted by your analysis. This person or persons might not be directly considered in the analysis, but they might be impacted indirectly."
   ]
  },
  {
   "cell_type": "markdown",
   "metadata": {
    "colab_type": "text",
    "id": "We8_W4WtNDLw"
   },
   "source": [
    "*\\[Hypothetical entity\\] will be negatively impacted because...*"
   ]
  },
  {
   "cell_type": "markdown",
   "metadata": {
    "colab_type": "text",
    "id": "07J-8ljpL85I"
   },
   "source": [
    "**Bias**\n",
    "\n",
    "Data analysis can be biased for many reasons. The bias can come from the data itself (e.g. sampling, data collection methods, available sources), and from the interpretation of the analysis outcome.\n",
    "\n",
    "Think of at least two ways that bias might have been introduced to your analysis and explain them below."
   ]
  },
  {
   "cell_type": "markdown",
   "metadata": {
    "colab_type": "text",
    "id": "Jg_PSw3NMyFX"
   },
   "source": [
    "*One source of bias in the analysis could be...*\n",
    "\n",
    "*Another source of bias in the analysis could be...*"
   ]
  },
  {
   "cell_type": "markdown",
   "metadata": {
    "colab_type": "text",
    "id": "7j9AWdJLMTJI"
   },
   "source": [
    "**Changing the Dataset to Mitigate Bias**\n",
    "\n",
    "The most common way that an analysis is biased is when the dataset itself is biased. Look back at the input data that you used for your analysis. Think about how you might change something about the data to reduce bias in your model.\n",
    "\n",
    "What changes could you make to make your dataset less biased? Consider the data that you have, how and where that data was collected, and what other sources of data might be used to reduce bias.\n",
    "\n",
    "Write a summary of the changes that could be made to your input data."
   ]
  },
  {
   "cell_type": "markdown",
   "metadata": {
    "colab_type": "text",
    "id": "yzzfrQ-xNZo5"
   },
   "source": [
    "*Since the data has potential bias X, we can adjust...*"
   ]
  },
  {
   "cell_type": "markdown",
   "metadata": {
    "colab_type": "text",
    "id": "ePs6hpLiMNSx"
   },
   "source": [
    "**Changing the Analysis Questions to Mitigate Bias**\n",
    "\n",
    "Are there any ways to reduce bias by changing the analysis itself? This could include modifying the choice of questions you ask, the approach you take to answer the questions, etc.\n",
    "\n",
    "Write a brief summary of any changes that you could make to help reduce bias in your analysis."
   ]
  },
  {
   "cell_type": "markdown",
   "metadata": {
    "colab_type": "text",
    "id": "bZ3PS8bRNRCv"
   },
   "source": [
    "*Since the analysis has potential bias X, we can adjust...*"
   ]
  },
  {
   "cell_type": "markdown",
   "metadata": {
    "colab_type": "text",
    "id": "YYY7lk55MgdX"
   },
   "source": [
    "**Mitigating Bias Downstream**\n",
    "\n",
    "While analysis can point to suggestions, it is people who make decisions based on them. What processes and/or rules should be in place for people and systems interpreting and acting on the results of your analysis to reduce the bias? Describe these below."
   ]
  },
  {
   "cell_type": "markdown",
   "metadata": {
    "colab_type": "text",
    "id": "Mp3TkmalNcR-"
   },
   "source": [
    "*Since the analysis has potential bias X, we can implement processes...*"
   ]
  }
 ],
 "metadata": {
  "colab": {
   "collapsed_sections": [
    "jx_FnF6HFucc",
    "obXcnV7Ldc2M",
    "exercise-2-key-1"
   ],
   "include_colab_link": true,
   "name": "Dataset Exploration",
   "private_outputs": true,
   "provenance": [],
   "toc_visible": true
  },
  "kernelspec": {
   "display_name": "Python [conda env:root] *",
   "language": "python",
   "name": "conda-root-py"
  },
  "language_info": {
   "codemirror_mode": {
    "name": "ipython",
    "version": 2
   },
   "file_extension": ".py",
   "mimetype": "text/x-python",
   "name": "python",
   "nbconvert_exporter": "python",
   "pygments_lexer": "ipython2",
   "version": "2.7.16"
  }
 },
 "nbformat": 4,
 "nbformat_minor": 1
}
